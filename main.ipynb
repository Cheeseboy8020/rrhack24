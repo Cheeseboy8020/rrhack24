{
 "cells": [
  {
   "cell_type": "code",
   "outputs": [
    {
     "data": {
      "text/plain": "<Version('0.8.20')>"
     },
     "execution_count": 13,
     "metadata": {},
     "output_type": "execute_result"
    }
   ],
   "source": [
    "from solcx import install_solc, compile_files\n",
    "\n",
    "install_solc(\"0.8.20\")"
   ],
   "metadata": {
    "collapsed": false,
    "ExecuteTime": {
     "end_time": "2024-02-11T09:33:38.334849461Z",
     "start_time": "2024-02-11T09:33:38.300188201Z"
    }
   },
   "id": "9d7975cd7143465a",
   "execution_count": 13
  },
  {
   "cell_type": "code",
   "outputs": [],
   "source": [
    "compiled_sol = compile_files(\n",
    "    [\"./MyNFT.sol\"],\n",
    "    output_values=['abi', 'bin'],\n",
    "    solc_version=\"0.8.20\"\n",
    ")"
   ],
   "metadata": {
    "collapsed": false,
    "ExecuteTime": {
     "end_time": "2024-02-11T09:34:22.760899707Z",
     "start_time": "2024-02-11T09:34:22.696566259Z"
    }
   },
   "id": "b8c2baab82f3d868",
   "execution_count": 20
  },
  {
   "cell_type": "code",
   "outputs": [],
   "source": [
    "# get bytecode / bin\n",
    "bytecode = compiled_sol[\"MyNFT.sol:MyNFT\"]['bin']\n",
    "\n",
    "# get abi\n",
    "abi = compiled_sol[\"MyNFT.sol:MyNFT\"]['abi']"
   ],
   "metadata": {
    "collapsed": false,
    "ExecuteTime": {
     "end_time": "2024-02-11T09:34:23.228519767Z",
     "start_time": "2024-02-11T09:34:23.221607687Z"
    }
   },
   "id": "dc9b6e1db365a1c3",
   "execution_count": 21
  },
  {
   "cell_type": "code",
   "outputs": [
    {
     "ename": "KeyError",
     "evalue": "'./FoodDistributor.sol:FoodDistributor'",
     "output_type": "error",
     "traceback": [
      "\u001B[0;31m---------------------------------------------------------------------------\u001B[0m",
      "\u001B[0;31mKeyError\u001B[0m                                  Traceback (most recent call last)",
      "Cell \u001B[0;32mIn[15], line 2\u001B[0m\n\u001B[1;32m      1\u001B[0m \u001B[38;5;66;03m# get bytecode / bin\u001B[39;00m\n\u001B[0;32m----> 2\u001B[0m bytecode \u001B[38;5;241m=\u001B[39m compiled_sol[\u001B[38;5;124m\"\u001B[39m\u001B[38;5;124m./FoodDistributor.sol:FoodDistributor\u001B[39m\u001B[38;5;124m\"\u001B[39m][\u001B[38;5;124m'\u001B[39m\u001B[38;5;124mbin\u001B[39m\u001B[38;5;124m'\u001B[39m]\n\u001B[1;32m      4\u001B[0m \u001B[38;5;66;03m# get abi\u001B[39;00m\n\u001B[1;32m      5\u001B[0m abi \u001B[38;5;241m=\u001B[39m compiled_sol[\u001B[38;5;124m\"\u001B[39m\u001B[38;5;124m./FoodDistributor.sol:FoodDistributor\u001B[39m\u001B[38;5;124m\"\u001B[39m][\u001B[38;5;124m'\u001B[39m\u001B[38;5;124mabi\u001B[39m\u001B[38;5;124m'\u001B[39m]\n",
      "\u001B[0;31mKeyError\u001B[0m: './FoodDistributor.sol:FoodDistributor'"
     ]
    }
   ],
   "source": [
    "# get bytecode / bin\n",
    "bytecode = compiled_sol[\"./FoodDistributor.sol:FoodDistributor\"]['bin']\n",
    "\n",
    "# get abi\n",
    "abi = compiled_sol[\"./FoodDistributor.sol:FoodDistributor\"]['abi']"
   ],
   "metadata": {
    "collapsed": false,
    "ExecuteTime": {
     "end_time": "2024-02-11T09:33:38.437749781Z",
     "start_time": "2024-02-11T09:33:38.388611709Z"
    }
   },
   "id": "f78e84747c5d8d27",
   "execution_count": 15
  },
  {
   "cell_type": "code",
   "outputs": [
    {
     "data": {
      "text/plain": "'0xac14ac26d609ca0E6a5F3929d4a31E2eC2cE0FaA'"
     },
     "execution_count": 22,
     "metadata": {},
     "output_type": "execute_result"
    }
   ],
   "source": [
    "import os\n",
    "from web3 import Web3\n",
    "\n",
    "w3 = Web3(Web3.HTTPProvider(\"http://127.0.0.1:7545\"))\n",
    "\n",
    "private_key = os.environ[\"pk\"]\n",
    "account1 = w3.eth.account.from_key(private_key).address\n",
    "account1"
   ],
   "metadata": {
    "collapsed": false,
    "ExecuteTime": {
     "end_time": "2024-02-11T09:34:25.191713774Z",
     "start_time": "2024-02-11T09:34:25.137458860Z"
    }
   },
   "id": "633ac80e8d3e4d02",
   "execution_count": 22
  },
  {
   "cell_type": "code",
   "outputs": [
    {
     "ename": "TypeError",
     "evalue": "Incorrect argument count. Expected '0'. Got '1'",
     "output_type": "error",
     "traceback": [
      "\u001B[0;31m---------------------------------------------------------------------------\u001B[0m",
      "\u001B[0;31mTypeError\u001B[0m                                 Traceback (most recent call last)",
      "Cell \u001B[0;32mIn[24], line 3\u001B[0m\n\u001B[1;32m      1\u001B[0m \u001B[38;5;66;03m# Deploy FoodDistributor contracts\u001B[39;00m\n\u001B[1;32m      2\u001B[0m contract1 \u001B[38;5;241m=\u001B[39m w3\u001B[38;5;241m.\u001B[39meth\u001B[38;5;241m.\u001B[39mcontract(abi\u001B[38;5;241m=\u001B[39mabi, bytecode\u001B[38;5;241m=\u001B[39mbytecode)\n\u001B[0;32m----> 3\u001B[0m tx_hash1 \u001B[38;5;241m=\u001B[39m contract1\u001B[38;5;241m.\u001B[39mconstructor(\u001B[38;5;124m\"\u001B[39m\u001B[38;5;124m0x0000000000000000000000000000000000000000\u001B[39m\u001B[38;5;124m\"\u001B[39m)\u001B[38;5;241m.\u001B[39mtransact({\u001B[38;5;124m\"\u001B[39m\u001B[38;5;124mfrom\u001B[39m\u001B[38;5;124m\"\u001B[39m: account1})\n\u001B[1;32m      4\u001B[0m tx_receipt1 \u001B[38;5;241m=\u001B[39m w3\u001B[38;5;241m.\u001B[39meth\u001B[38;5;241m.\u001B[39mwait_for_transaction_receipt(tx_hash1)\n\u001B[1;32m      5\u001B[0m contract_address1 \u001B[38;5;241m=\u001B[39m tx_receipt1\u001B[38;5;241m.\u001B[39mcontractAddress\n",
      "File \u001B[0;32m~/.local/lib/python3.11/site-packages/web3/contract/contract.py:532\u001B[0m, in \u001B[0;36mContract.constructor\u001B[0;34m(cls, *args, **kwargs)\u001B[0m\n\u001B[1;32m    526\u001B[0m \u001B[38;5;28;01mif\u001B[39;00m \u001B[38;5;28mcls\u001B[39m\u001B[38;5;241m.\u001B[39mbytecode \u001B[38;5;129;01mis\u001B[39;00m \u001B[38;5;28;01mNone\u001B[39;00m:\n\u001B[1;32m    527\u001B[0m     \u001B[38;5;28;01mraise\u001B[39;00m \u001B[38;5;167;01mValueError\u001B[39;00m(\n\u001B[1;32m    528\u001B[0m         \u001B[38;5;124m\"\u001B[39m\u001B[38;5;124mCannot call constructor on a contract that does not have \u001B[39m\u001B[38;5;124m\"\u001B[39m\n\u001B[1;32m    529\u001B[0m         \u001B[38;5;124m\"\u001B[39m\u001B[38;5;124m'\u001B[39m\u001B[38;5;124mbytecode\u001B[39m\u001B[38;5;124m'\u001B[39m\u001B[38;5;124m associated with it\u001B[39m\u001B[38;5;124m\"\u001B[39m\n\u001B[1;32m    530\u001B[0m     )\n\u001B[0;32m--> 532\u001B[0m \u001B[38;5;28;01mreturn\u001B[39;00m ContractConstructor(\u001B[38;5;28mcls\u001B[39m\u001B[38;5;241m.\u001B[39mw3, \u001B[38;5;28mcls\u001B[39m\u001B[38;5;241m.\u001B[39mabi, \u001B[38;5;28mcls\u001B[39m\u001B[38;5;241m.\u001B[39mbytecode, \u001B[38;5;241m*\u001B[39margs, \u001B[38;5;241m*\u001B[39m\u001B[38;5;241m*\u001B[39mkwargs)\n",
      "File \u001B[0;32m~/.local/lib/python3.11/site-packages/web3/contract/base_contract.py:1060\u001B[0m, in \u001B[0;36mBaseContractConstructor.__init__\u001B[0;34m(self, w3, abi, bytecode, *args, **kwargs)\u001B[0m\n\u001B[1;32m   1058\u001B[0m \u001B[38;5;28mself\u001B[39m\u001B[38;5;241m.\u001B[39mabi \u001B[38;5;241m=\u001B[39m abi\n\u001B[1;32m   1059\u001B[0m \u001B[38;5;28mself\u001B[39m\u001B[38;5;241m.\u001B[39mbytecode \u001B[38;5;241m=\u001B[39m bytecode\n\u001B[0;32m-> 1060\u001B[0m \u001B[38;5;28mself\u001B[39m\u001B[38;5;241m.\u001B[39mdata_in_transaction \u001B[38;5;241m=\u001B[39m \u001B[38;5;28mself\u001B[39m\u001B[38;5;241m.\u001B[39m_encode_data_in_transaction(\u001B[38;5;241m*\u001B[39margs, \u001B[38;5;241m*\u001B[39m\u001B[38;5;241m*\u001B[39mkwargs)\n",
      "File \u001B[0;32m~/.local/lib/python3.11/site-packages/eth_utils/decorators.py:18\u001B[0m, in \u001B[0;36mcombomethod.__get__.<locals>._wrapper\u001B[0;34m(*args, **kwargs)\u001B[0m\n\u001B[1;32m     15\u001B[0m \u001B[38;5;129m@functools\u001B[39m\u001B[38;5;241m.\u001B[39mwraps(\u001B[38;5;28mself\u001B[39m\u001B[38;5;241m.\u001B[39mmethod)\n\u001B[1;32m     16\u001B[0m \u001B[38;5;28;01mdef\u001B[39;00m \u001B[38;5;21m_wrapper\u001B[39m(\u001B[38;5;241m*\u001B[39margs: Any, \u001B[38;5;241m*\u001B[39m\u001B[38;5;241m*\u001B[39mkwargs: Any) \u001B[38;5;241m-\u001B[39m\u001B[38;5;241m>\u001B[39m Any:\n\u001B[1;32m     17\u001B[0m     \u001B[38;5;28;01mif\u001B[39;00m obj \u001B[38;5;129;01mis\u001B[39;00m \u001B[38;5;129;01mnot\u001B[39;00m \u001B[38;5;28;01mNone\u001B[39;00m:\n\u001B[0;32m---> 18\u001B[0m         \u001B[38;5;28;01mreturn\u001B[39;00m \u001B[38;5;28mself\u001B[39m\u001B[38;5;241m.\u001B[39mmethod(obj, \u001B[38;5;241m*\u001B[39margs, \u001B[38;5;241m*\u001B[39m\u001B[38;5;241m*\u001B[39mkwargs)\n\u001B[1;32m     19\u001B[0m     \u001B[38;5;28;01melse\u001B[39;00m:\n\u001B[1;32m     20\u001B[0m         \u001B[38;5;28;01mreturn\u001B[39;00m \u001B[38;5;28mself\u001B[39m\u001B[38;5;241m.\u001B[39mmethod(objtype, \u001B[38;5;241m*\u001B[39margs, \u001B[38;5;241m*\u001B[39m\u001B[38;5;241m*\u001B[39mkwargs)\n",
      "File \u001B[0;32m~/.local/lib/python3.11/site-packages/web3/contract/base_contract.py:1072\u001B[0m, in \u001B[0;36mBaseContractConstructor._encode_data_in_transaction\u001B[0;34m(self, *args, **kwargs)\u001B[0m\n\u001B[1;32m   1069\u001B[0m     \u001B[38;5;28;01mif\u001B[39;00m \u001B[38;5;129;01mnot\u001B[39;00m kwargs:\n\u001B[1;32m   1070\u001B[0m         kwargs \u001B[38;5;241m=\u001B[39m {}\n\u001B[0;32m-> 1072\u001B[0m     arguments \u001B[38;5;241m=\u001B[39m merge_args_and_kwargs(constructor_abi, args, kwargs)\n\u001B[1;32m   1073\u001B[0m     data \u001B[38;5;241m=\u001B[39m add_0x_prefix(\n\u001B[1;32m   1074\u001B[0m         encode_abi(\u001B[38;5;28mself\u001B[39m\u001B[38;5;241m.\u001B[39mw3, constructor_abi, arguments, data\u001B[38;5;241m=\u001B[39m\u001B[38;5;28mself\u001B[39m\u001B[38;5;241m.\u001B[39mbytecode)\n\u001B[1;32m   1075\u001B[0m     )\n\u001B[1;32m   1076\u001B[0m \u001B[38;5;28;01melse\u001B[39;00m:\n",
      "File \u001B[0;32m~/.local/lib/python3.11/site-packages/web3/_utils/abi.py:403\u001B[0m, in \u001B[0;36mmerge_args_and_kwargs\u001B[0;34m(function_abi, args, kwargs)\u001B[0m\n\u001B[1;32m    401\u001B[0m \u001B[38;5;66;03m# Ensure the function is being applied to the correct number of args\u001B[39;00m\n\u001B[1;32m    402\u001B[0m \u001B[38;5;28;01mif\u001B[39;00m \u001B[38;5;28mlen\u001B[39m(args) \u001B[38;5;241m+\u001B[39m \u001B[38;5;28mlen\u001B[39m(kwargs) \u001B[38;5;241m!=\u001B[39m \u001B[38;5;28mlen\u001B[39m(function_abi\u001B[38;5;241m.\u001B[39mget(\u001B[38;5;124m\"\u001B[39m\u001B[38;5;124minputs\u001B[39m\u001B[38;5;124m\"\u001B[39m, [])):\n\u001B[0;32m--> 403\u001B[0m     \u001B[38;5;28;01mraise\u001B[39;00m \u001B[38;5;167;01mTypeError\u001B[39;00m(\n\u001B[1;32m    404\u001B[0m         \u001B[38;5;124mf\u001B[39m\u001B[38;5;124m\"\u001B[39m\u001B[38;5;124mIncorrect argument count. Expected \u001B[39m\u001B[38;5;124m'\u001B[39m\u001B[38;5;132;01m{\u001B[39;00m\u001B[38;5;28mlen\u001B[39m(function_abi[\u001B[38;5;124m'\u001B[39m\u001B[38;5;124minputs\u001B[39m\u001B[38;5;124m'\u001B[39m])\u001B[38;5;132;01m}\u001B[39;00m\u001B[38;5;124m'\u001B[39m\u001B[38;5;124m\"\u001B[39m\n\u001B[1;32m    405\u001B[0m         \u001B[38;5;124mf\u001B[39m\u001B[38;5;124m\"\u001B[39m\u001B[38;5;124m. Got \u001B[39m\u001B[38;5;124m'\u001B[39m\u001B[38;5;132;01m{\u001B[39;00m\u001B[38;5;28mlen\u001B[39m(args)\u001B[38;5;250m \u001B[39m\u001B[38;5;241m+\u001B[39m\u001B[38;5;250m \u001B[39m\u001B[38;5;28mlen\u001B[39m(kwargs)\u001B[38;5;132;01m}\u001B[39;00m\u001B[38;5;124m'\u001B[39m\u001B[38;5;124m\"\u001B[39m\n\u001B[1;32m    406\u001B[0m     )\n\u001B[1;32m    408\u001B[0m \u001B[38;5;66;03m# If no keyword args were given, we don't need to align them\u001B[39;00m\n\u001B[1;32m    409\u001B[0m \u001B[38;5;28;01mif\u001B[39;00m \u001B[38;5;129;01mnot\u001B[39;00m kwargs:\n",
      "\u001B[0;31mTypeError\u001B[0m: Incorrect argument count. Expected '0'. Got '1'"
     ]
    }
   ],
   "source": [
    "# Deploy FoodDistributor contracts\n",
    "contract1 = w3.eth.contract(abi=abi, bytecode=bytecode)\n",
    "tx_hash1 = contract1.constructor(\"0x0000000000000000000000000000000000000000\").transact({\"from\": account1})\n",
    "tx_receipt1 = w3.eth.wait_for_transaction_receipt(tx_hash1)\n",
    "contract_address1 = tx_receipt1.contractAddress\n",
    "contract_address1"
   ],
   "metadata": {
    "collapsed": false,
    "ExecuteTime": {
     "end_time": "2024-02-11T09:34:28.075525070Z",
     "start_time": "2024-02-11T09:34:28.014929733Z"
    }
   },
   "id": "f7bf4a4ae7a2d890",
   "execution_count": 24
  },
  {
   "cell_type": "code",
   "outputs": [],
   "source": [
    "contract2 = w3.eth.contract(abi=abi, bytecode=bytecode)\n",
    "tx_hash2 = contract2.constructor(\"0x0000000000000000000000000000000000000000\").transact({\"from\": account1})\n",
    "tx_receipt2 = w3.eth.wait_for_transaction_receipt(tx_hash2)\n",
    "contract_address2 = tx_receipt2.contractAddress\n",
    "contract_address2"
   ],
   "metadata": {
    "collapsed": false,
    "ExecuteTime": {
     "start_time": "2024-02-11T09:33:38.414689246Z"
    }
   },
   "id": "9da25df19aa0a205",
   "execution_count": null
  },
  {
   "cell_type": "code",
   "outputs": [],
   "source": [
    "# Interact with the deployed contracts\n",
    "food_distributor1 = w3.eth.contract(address=contract_address1, abi=abi)\n",
    "food_distributor2 = w3.eth.contract(address=contract_address2, abi=abi)\n",
    "\n",
    "# Add items to the first contract\n",
    "food_distributor1.functions.addItem(\"Item1\", 100).transact({\"from\": account1})"
   ],
   "metadata": {
    "collapsed": false,
    "ExecuteTime": {
     "start_time": "2024-02-11T09:33:38.414843347Z"
    }
   },
   "id": "6685074200fc2ad9",
   "execution_count": null
  },
  {
   "cell_type": "code",
   "outputs": [],
   "source": [
    "# Add items to the first contract\n",
    "food_distributor1.functions.itemNameToQuantity(\"Item1\").call()"
   ],
   "metadata": {
    "collapsed": false,
    "ExecuteTime": {
     "start_time": "2024-02-11T09:33:38.414906747Z"
    }
   },
   "id": "c6e0206e5fbeb9dc",
   "execution_count": null
  },
  {
   "cell_type": "code",
   "outputs": [],
   "source": [
    "# Transfer items from the first contract to the second contract\n",
    "food_distributor1.functions.transferItemOut(contract_address2, \"Item1\", 50).transact({\"from\": account1})"
   ],
   "metadata": {
    "collapsed": false,
    "ExecuteTime": {
     "start_time": "2024-02-11T09:33:38.414982600Z"
    }
   },
   "id": "73ad92778fc5c523",
   "execution_count": null
  },
  {
   "cell_type": "code",
   "outputs": [],
   "source": [
    "food_distributor2.functions.addItem(\"Item1\", 100).transact({\"from\": account1})"
   ],
   "metadata": {
    "collapsed": false,
    "ExecuteTime": {
     "end_time": "2024-02-11T09:33:38.480809878Z",
     "start_time": "2024-02-11T09:33:38.455433463Z"
    }
   },
   "id": "a10cfba16e01d155",
   "execution_count": null
  },
  {
   "cell_type": "code",
   "outputs": [
    {
     "ename": "NameError",
     "evalue": "name 'food_distributor2' is not defined",
     "output_type": "error",
     "traceback": [
      "\u001B[0;31m---------------------------------------------------------------------------\u001B[0m",
      "\u001B[0;31mNameError\u001B[0m                                 Traceback (most recent call last)",
      "Cell \u001B[0;32mIn[16], line 1\u001B[0m\n\u001B[0;32m----> 1\u001B[0m food_distributor2\u001B[38;5;241m.\u001B[39mfunctions\u001B[38;5;241m.\u001B[39mitemNameToQuantity(\u001B[38;5;124m\"\u001B[39m\u001B[38;5;124mItem1\u001B[39m\u001B[38;5;124m\"\u001B[39m)\u001B[38;5;241m.\u001B[39mcall()\n",
      "\u001B[0;31mNameError\u001B[0m: name 'food_distributor2' is not defined"
     ]
    }
   ],
   "source": [
    "food_distributor2.functions.itemNameToQuantity(\"Item1\").call()"
   ],
   "metadata": {
    "collapsed": false,
    "ExecuteTime": {
     "start_time": "2024-02-11T09:33:38.455604255Z"
    }
   },
   "id": "e10f10d97bbc1908",
   "execution_count": 16
  },
  {
   "cell_type": "code",
   "outputs": [],
   "source": [
    "w3.tracing.trace_transaction(\"0xe7b733287dce11274b934eaf4070a7280a59199358d9e669636ed06bdeaeb58c\")"
   ],
   "metadata": {
    "collapsed": false,
    "ExecuteTime": {
     "start_time": "2024-02-11T09:33:38.455825372Z"
    }
   },
   "id": "ec33b28018dc7eab",
   "execution_count": null
  },
  {
   "cell_type": "code",
   "outputs": [],
   "source": [],
   "metadata": {
    "collapsed": false,
    "ExecuteTime": {
     "end_time": "2024-02-11T09:33:38.523168229Z",
     "start_time": "2024-02-11T09:33:38.476822765Z"
    }
   },
   "id": "6bbd97f8ba273eec",
   "execution_count": 16
  }
 ],
 "metadata": {
  "kernelspec": {
   "display_name": "Python 3 (ipykernel)",
   "language": "python",
   "name": "python3"
  },
  "language_info": {
   "codemirror_mode": {
    "name": "ipython",
    "version": 3
   },
   "file_extension": ".py",
   "mimetype": "text/x-python",
   "name": "python",
   "nbconvert_exporter": "python",
   "pygments_lexer": "ipython3",
   "version": "3.11.7"
  }
 },
 "nbformat": 4,
 "nbformat_minor": 5
}
