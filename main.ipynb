{
 "cells": [
  {
   "cell_type": "code",
   "outputs": [],
   "source": [
    "from web3 import Web3\n",
    "from solcx import compile_source\n",
    "import solcx\n",
    "\n",
    "solcx.install_solc()\n",
    "\n",
    "# Solidity source code\n",
    "compiled_sol = compile_source(\n",
    "    '''\n",
    "    pragma solidity >0.5.0;\n",
    "\n",
    "    contract VendingMachine {\n",
    "\n",
    "    // Declare state variables of the contract\n",
    "    address public owner;\n",
    "    mapping (address => uint) public cupcakeBalances;\n",
    "\n",
    "    // When 'VendingMachine' contract is deployed:\n",
    "    // 1. set the deploying address as the owner of the contract\n",
    "    // 2. set the deployed smart contract's cupcake balance to 100\n",
    "    constructor() {\n",
    "        owner = msg.sender;\n",
    "        cupcakeBalances[address(this)] = 100;\n",
    "    }\n",
    "\n",
    "    // Allow the owner to increase the smart contract's cupcake balance\n",
    "    function refill(uint amount) public {\n",
    "        require(msg.sender == owner, \"Only the owner can refill.\");\n",
    "        cupcakeBalances[address(this)] += amount;\n",
    "    }\n",
    "\n",
    "    // Allow anyone to purchase cupcakes\n",
    "    function purchase(uint amount) public payable {\n",
    "        require(msg.value >= amount * 1 ether, \"You must pay at least 1 ETH per cupcake\");\n",
    "        require(cupcakeBalances[address(this)] >= amount, \"Not enough cupcakes in stock to complete this purchase\");\n",
    "        cupcakeBalances[address(this)] -= amount;\n",
    "        cupcakeBalances[msg.sender] += amount;\n",
    "    }\n",
    "}\n",
    "\n",
    "    ''',\n",
    "    output_values=['abi', 'bin']\n",
    ")"
   ],
   "metadata": {
    "collapsed": false,
    "ExecuteTime": {
     "end_time": "2024-02-10T17:00:31.593433289Z",
     "start_time": "2024-02-10T17:00:31.504881396Z"
    }
   },
   "id": "ea90489d267d9518",
   "execution_count": 7
  },
  {
   "cell_type": "code",
   "outputs": [],
   "source": [],
   "metadata": {
    "collapsed": false
   },
   "id": "9376448edb6522f"
  }
 ],
 "metadata": {
  "kernelspec": {
   "display_name": "Python 3",
   "language": "python",
   "name": "python3"
  },
  "language_info": {
   "codemirror_mode": {
    "name": "ipython",
    "version": 2
   },
   "file_extension": ".py",
   "mimetype": "text/x-python",
   "name": "python",
   "nbconvert_exporter": "python",
   "pygments_lexer": "ipython2",
   "version": "2.7.6"
  }
 },
 "nbformat": 4,
 "nbformat_minor": 5
}
